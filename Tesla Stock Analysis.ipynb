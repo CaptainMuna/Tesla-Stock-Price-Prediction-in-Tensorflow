{
 "cells": [
  {
   "cell_type": "code",
   "execution_count": 1,
   "metadata": {},
   "outputs": [],
   "source": [
    "#EDA\n",
    "import pandas as pd\n",
    "import pandas_datareader as pdr\n",
    "import numpy as np\n",
    "\n",
    "#Visualization\n",
    "%matplotlib inline\n",
    "import matplotlib.pyplot as plt\n",
    "import seaborn as sns\n",
    "import plotly.express as px\n",
    "\n",
    "# Date Time\n",
    "from datetime import date\n",
    "from datetime import time\n",
    "from pandas_profiling import ProfileReport\n",
    "\n",
    "# SKLEARN\n",
    "from sklearn.preprocessing import MinMaxScaler\n",
    "from sklearn.model_selection import train_test_split\n",
    "from sklearn.metrics import mean_squared_error\n",
    "import math"
   ]
  },
  {
   "cell_type": "code",
   "execution_count": 3,
   "metadata": {},
   "outputs": [],
   "source": [
    "key = '6048c14f45df220c823c80330cdcac459048ce57'\n",
    "df = pdr.get_data_tiingo('TSLA', api_key = key)"
   ]
  },
  {
   "cell_type": "code",
   "execution_count": 4,
   "metadata": {},
   "outputs": [],
   "source": [
    "df.to_csv('TSLA.csv')"
   ]
  },
  {
   "cell_type": "code",
   "execution_count": 5,
   "metadata": {},
   "outputs": [],
   "source": [
    "stocks = pd.read_csv('TSLA.csv')"
   ]
  },
  {
   "cell_type": "code",
   "execution_count": 6,
   "metadata": {},
   "outputs": [],
   "source": [
    "stocks = stocks.reset_index()"
   ]
  },
  {
   "cell_type": "code",
   "execution_count": 7,
   "metadata": {},
   "outputs": [
    {
     "data": {
      "text/html": [
       "<div>\n",
       "<style scoped>\n",
       "    .dataframe tbody tr th:only-of-type {\n",
       "        vertical-align: middle;\n",
       "    }\n",
       "\n",
       "    .dataframe tbody tr th {\n",
       "        vertical-align: top;\n",
       "    }\n",
       "\n",
       "    .dataframe thead th {\n",
       "        text-align: right;\n",
       "    }\n",
       "</style>\n",
       "<table border=\"1\" class=\"dataframe\">\n",
       "  <thead>\n",
       "    <tr style=\"text-align: right;\">\n",
       "      <th></th>\n",
       "      <th>index</th>\n",
       "      <th>symbol</th>\n",
       "      <th>date</th>\n",
       "      <th>close</th>\n",
       "      <th>high</th>\n",
       "      <th>low</th>\n",
       "      <th>open</th>\n",
       "      <th>volume</th>\n",
       "      <th>adjClose</th>\n",
       "      <th>adjHigh</th>\n",
       "      <th>adjLow</th>\n",
       "      <th>adjOpen</th>\n",
       "      <th>adjVolume</th>\n",
       "      <th>divCash</th>\n",
       "      <th>splitFactor</th>\n",
       "    </tr>\n",
       "  </thead>\n",
       "  <tbody>\n",
       "    <tr>\n",
       "      <th>0</th>\n",
       "      <td>0</td>\n",
       "      <td>TSLA</td>\n",
       "      <td>2017-01-03 00:00:00+00:00</td>\n",
       "      <td>216.99</td>\n",
       "      <td>220.33</td>\n",
       "      <td>210.96</td>\n",
       "      <td>214.86</td>\n",
       "      <td>5923254</td>\n",
       "      <td>43.398</td>\n",
       "      <td>44.066</td>\n",
       "      <td>42.192</td>\n",
       "      <td>42.972</td>\n",
       "      <td>29616270</td>\n",
       "      <td>0.0</td>\n",
       "      <td>1.0</td>\n",
       "    </tr>\n",
       "    <tr>\n",
       "      <th>1</th>\n",
       "      <td>1</td>\n",
       "      <td>TSLA</td>\n",
       "      <td>2017-01-04 00:00:00+00:00</td>\n",
       "      <td>226.99</td>\n",
       "      <td>228.00</td>\n",
       "      <td>214.31</td>\n",
       "      <td>214.75</td>\n",
       "      <td>11213471</td>\n",
       "      <td>45.398</td>\n",
       "      <td>45.600</td>\n",
       "      <td>42.862</td>\n",
       "      <td>42.950</td>\n",
       "      <td>56067355</td>\n",
       "      <td>0.0</td>\n",
       "      <td>1.0</td>\n",
       "    </tr>\n",
       "    <tr>\n",
       "      <th>2</th>\n",
       "      <td>2</td>\n",
       "      <td>TSLA</td>\n",
       "      <td>2017-01-05 00:00:00+00:00</td>\n",
       "      <td>226.75</td>\n",
       "      <td>227.48</td>\n",
       "      <td>221.95</td>\n",
       "      <td>226.42</td>\n",
       "      <td>5911695</td>\n",
       "      <td>45.350</td>\n",
       "      <td>45.496</td>\n",
       "      <td>44.390</td>\n",
       "      <td>45.284</td>\n",
       "      <td>29558475</td>\n",
       "      <td>0.0</td>\n",
       "      <td>1.0</td>\n",
       "    </tr>\n",
       "    <tr>\n",
       "      <th>3</th>\n",
       "      <td>3</td>\n",
       "      <td>TSLA</td>\n",
       "      <td>2017-01-06 00:00:00+00:00</td>\n",
       "      <td>229.01</td>\n",
       "      <td>230.31</td>\n",
       "      <td>225.45</td>\n",
       "      <td>226.93</td>\n",
       "      <td>5527893</td>\n",
       "      <td>45.802</td>\n",
       "      <td>46.062</td>\n",
       "      <td>45.090</td>\n",
       "      <td>45.386</td>\n",
       "      <td>27639465</td>\n",
       "      <td>0.0</td>\n",
       "      <td>1.0</td>\n",
       "    </tr>\n",
       "    <tr>\n",
       "      <th>4</th>\n",
       "      <td>4</td>\n",
       "      <td>TSLA</td>\n",
       "      <td>2017-01-09 00:00:00+00:00</td>\n",
       "      <td>231.28</td>\n",
       "      <td>231.92</td>\n",
       "      <td>228.00</td>\n",
       "      <td>228.97</td>\n",
       "      <td>3979484</td>\n",
       "      <td>46.256</td>\n",
       "      <td>46.384</td>\n",
       "      <td>45.600</td>\n",
       "      <td>45.794</td>\n",
       "      <td>19897420</td>\n",
       "      <td>0.0</td>\n",
       "      <td>1.0</td>\n",
       "    </tr>\n",
       "  </tbody>\n",
       "</table>\n",
       "</div>"
      ],
      "text/plain": [
       "   index symbol                       date   close    high     low    open  \\\n",
       "0      0   TSLA  2017-01-03 00:00:00+00:00  216.99  220.33  210.96  214.86   \n",
       "1      1   TSLA  2017-01-04 00:00:00+00:00  226.99  228.00  214.31  214.75   \n",
       "2      2   TSLA  2017-01-05 00:00:00+00:00  226.75  227.48  221.95  226.42   \n",
       "3      3   TSLA  2017-01-06 00:00:00+00:00  229.01  230.31  225.45  226.93   \n",
       "4      4   TSLA  2017-01-09 00:00:00+00:00  231.28  231.92  228.00  228.97   \n",
       "\n",
       "     volume  adjClose  adjHigh  adjLow  adjOpen  adjVolume  divCash  \\\n",
       "0   5923254    43.398   44.066  42.192   42.972   29616270      0.0   \n",
       "1  11213471    45.398   45.600  42.862   42.950   56067355      0.0   \n",
       "2   5911695    45.350   45.496  44.390   45.284   29558475      0.0   \n",
       "3   5527893    45.802   46.062  45.090   45.386   27639465      0.0   \n",
       "4   3979484    46.256   46.384  45.600   45.794   19897420      0.0   \n",
       "\n",
       "   splitFactor  \n",
       "0          1.0  \n",
       "1          1.0  \n",
       "2          1.0  \n",
       "3          1.0  \n",
       "4          1.0  "
      ]
     },
     "execution_count": 7,
     "metadata": {},
     "output_type": "execute_result"
    }
   ],
   "source": [
    "stocks.head()"
   ]
  },
  {
   "cell_type": "code",
   "execution_count": 8,
   "metadata": {},
   "outputs": [
    {
     "data": {
      "text/plain": [
       "(1257, 15)"
      ]
     },
     "execution_count": 8,
     "metadata": {},
     "output_type": "execute_result"
    }
   ],
   "source": [
    "stocks.shape"
   ]
  },
  {
   "cell_type": "code",
   "execution_count": 9,
   "metadata": {},
   "outputs": [
    {
     "data": {
      "text/plain": [
       "index          0\n",
       "symbol         0\n",
       "date           0\n",
       "close          0\n",
       "high           0\n",
       "low            0\n",
       "open           0\n",
       "volume         0\n",
       "adjClose       0\n",
       "adjHigh        0\n",
       "adjLow         0\n",
       "adjOpen        0\n",
       "adjVolume      0\n",
       "divCash        0\n",
       "splitFactor    0\n",
       "dtype: int64"
      ]
     },
     "execution_count": 9,
     "metadata": {},
     "output_type": "execute_result"
    }
   ],
   "source": [
    "# No null values\n",
    "stocks.isnull().sum()"
   ]
  },
  {
   "cell_type": "code",
   "execution_count": 10,
   "metadata": {},
   "outputs": [
    {
     "data": {
      "text/plain": [
       "index            int64\n",
       "symbol          object\n",
       "date            object\n",
       "close          float64\n",
       "high           float64\n",
       "low            float64\n",
       "open           float64\n",
       "volume           int64\n",
       "adjClose       float64\n",
       "adjHigh        float64\n",
       "adjLow         float64\n",
       "adjOpen        float64\n",
       "adjVolume        int64\n",
       "divCash        float64\n",
       "splitFactor    float64\n",
       "dtype: object"
      ]
     },
     "execution_count": 10,
     "metadata": {},
     "output_type": "execute_result"
    }
   ],
   "source": [
    "stocks.dtypes"
   ]
  },
  {
   "cell_type": "code",
   "execution_count": 11,
   "metadata": {},
   "outputs": [
    {
     "data": {
      "text/plain": [
       "2017-05-19 00:00:00+00:00    1\n",
       "2019-07-24 00:00:00+00:00    1\n",
       "2021-04-30 00:00:00+00:00    1\n",
       "2020-04-08 00:00:00+00:00    1\n",
       "2021-01-27 00:00:00+00:00    1\n",
       "                            ..\n",
       "2021-09-17 00:00:00+00:00    1\n",
       "2017-11-16 00:00:00+00:00    1\n",
       "2021-08-24 00:00:00+00:00    1\n",
       "2021-08-16 00:00:00+00:00    1\n",
       "2021-03-05 00:00:00+00:00    1\n",
       "Name: date, Length: 1257, dtype: int64"
      ]
     },
     "execution_count": 11,
     "metadata": {},
     "output_type": "execute_result"
    }
   ],
   "source": [
    "## Clean up the date column\n",
    "stocks.date.value_counts()\n",
    "# from this we can see that the time values for all dates are the same so it can be dropped as it provides no additional info\n"
   ]
  },
  {
   "cell_type": "code",
   "execution_count": 12,
   "metadata": {},
   "outputs": [
    {
     "name": "stdout",
     "output_type": "stream",
     "text": [
      "(1257, 16)\n"
     ]
    },
    {
     "data": {
      "text/plain": [
       "Index(['index', 'symbol', 'date', 'time', 'close', 'high', 'low', 'open',\n",
       "       'volume', 'adjClose', 'adjHigh', 'adjLow', 'adjOpen', 'adjVolume',\n",
       "       'divCash', 'splitFactor'],\n",
       "      dtype='object')"
      ]
     },
     "execution_count": 12,
     "metadata": {},
     "output_type": "execute_result"
    }
   ],
   "source": [
    "#Strip the date column of the time value\n",
    "stocks['date'] = stocks['date'].apply(str).str.strip('00:00:00+00:00')\n",
    "#Convert Date column to datetype dtype\n",
    "stocks['date'] = pd.to_datetime(stocks['date'])\n",
    "# Create time column using stripped time value\n",
    "stocks['time'] = stocks['date'].dt.time\n",
    "#Re-organize dataframe\n",
    "stocks = stocks.reindex(columns = ['index','symbol','date','time','close', 'high','low','open','volume',\n",
    "                                  'adjClose', 'adjHigh', 'adjLow', 'adjOpen', 'adjVolume', 'divCash', 'splitFactor'])\n",
    "\n",
    "print(stocks.shape)\n",
    "stocks.columns"
   ]
  },
  {
   "cell_type": "code",
   "execution_count": 13,
   "metadata": {},
   "outputs": [
    {
     "data": {
      "text/plain": [
       "0        216.99\n",
       "1        226.99\n",
       "2        226.75\n",
       "3        229.01\n",
       "4        231.28\n",
       "         ...   \n",
       "1252    1008.87\n",
       "1253    1067.00\n",
       "1254    1093.94\n",
       "1255    1088.47\n",
       "1256    1086.19\n",
       "Name: close, Length: 1257, dtype: float64"
      ]
     },
     "execution_count": 13,
     "metadata": {},
     "output_type": "execute_result"
    }
   ],
   "source": [
    "# looking at the closing stock prices\n",
    "closeStocks = stocks['close']\n",
    "closeStocks"
   ]
  },
  {
   "cell_type": "code",
   "execution_count": 14,
   "metadata": {},
   "outputs": [
    {
     "data": {
      "text/plain": [
       "<AxesSubplot:>"
      ]
     },
     "execution_count": 14,
     "metadata": {},
     "output_type": "execute_result"
    }
   ],
   "source": [
    "# Visualize how the closing stock prices look\n",
    "closeStocks.plot()"
   ]
  },
  {
   "cell_type": "code",
   "execution_count": 15,
   "metadata": {},
   "outputs": [],
   "source": [
    "# LSTM are sensitive to scale so we have to scale the data"
   ]
  },
  {
   "cell_type": "code",
   "execution_count": 16,
   "metadata": {},
   "outputs": [],
   "source": [
    "scaler = MinMaxScaler(feature_range = (0,1))\n",
    "closeStocks = scaler.fit_transform(np.array(closeStocks).reshape(-1,1))"
   ]
  },
  {
   "cell_type": "code",
   "execution_count": 17,
   "metadata": {},
   "outputs": [
    {
     "data": {
      "text/plain": [
       "array([[0.01845828],\n",
       "       [0.02331317],\n",
       "       [0.02319665],\n",
       "       ...,\n",
       "       [0.44420763],\n",
       "       [0.44155201],\n",
       "       [0.4404451 ]])"
      ]
     },
     "execution_count": 17,
     "metadata": {},
     "output_type": "execute_result"
    }
   ],
   "source": [
    "closeStocks"
   ]
  },
  {
   "cell_type": "code",
   "execution_count": 18,
   "metadata": {},
   "outputs": [
    {
     "data": {
      "text/plain": [
       "(1257, 1)"
      ]
     },
     "execution_count": 18,
     "metadata": {},
     "output_type": "execute_result"
    }
   ],
   "source": [
    "closeStocks.shape"
   ]
  },
  {
   "cell_type": "markdown",
   "metadata": {},
   "source": [
    "# Data Preprocessing"
   ]
  },
  {
   "cell_type": "markdown",
   "metadata": {},
   "source": [
    "#### Train and Test"
   ]
  },
  {
   "cell_type": "code",
   "execution_count": 19,
   "metadata": {},
   "outputs": [],
   "source": [
    "training_size = int(len(closeStocks)*0.7)\n",
    "test_size = len(closeStocks) - training_size\n",
    "train_data,test_data = closeStocks[0:training_size, :], closeStocks[training_size:len(closeStocks),:1]"
   ]
  },
  {
   "cell_type": "code",
   "execution_count": 20,
   "metadata": {},
   "outputs": [],
   "source": [
    "# Converting our array of values into a dataset matrix"
   ]
  },
  {
   "cell_type": "code",
   "execution_count": 21,
   "metadata": {},
   "outputs": [],
   "source": [
    "import numpy\n",
    "# convert an array of values into a dataset matrix\n",
    "def create_dataset(dataset, time_step=1):\n",
    "\tdataX, dataY = [], []\n",
    "\tfor i in range(len(dataset)-time_step-1):\n",
    "\t\ta = dataset[i:(i+time_step), 0]   ###i=0, 0,1,2,3-----99   100 \n",
    "\t\tdataX.append(a)\n",
    "\t\tdataY.append(dataset[i + time_step, 0])\n",
    "\treturn numpy.array(dataX), numpy.array(dataY)"
   ]
  },
  {
   "cell_type": "code",
   "execution_count": 22,
   "metadata": {},
   "outputs": [],
   "source": [
    "# reshape into x=t, t+1, t+2, t+3, \n",
    "time_step = 100\n",
    "X_train, y_train = create_dataset(train_data, time_step)\n",
    "X_test,y_test = create_dataset(test_data, time_step)"
   ]
  },
  {
   "cell_type": "code",
   "execution_count": 23,
   "metadata": {},
   "outputs": [
    {
     "name": "stdout",
     "output_type": "stream",
     "text": [
      "(778, 100)\n",
      "(778,)\n",
      "(277, 100)\n",
      "(277,)\n"
     ]
    },
    {
     "data": {
      "text/plain": [
       "(None, None)"
      ]
     },
     "execution_count": 23,
     "metadata": {},
     "output_type": "execute_result"
    }
   ],
   "source": [
    "print(X_train.shape), print(y_train.shape)\n",
    "print(X_test.shape), print(y_test.shape)"
   ]
  },
  {
   "cell_type": "code",
   "execution_count": 24,
   "metadata": {},
   "outputs": [],
   "source": [
    "# reshaping the models\n",
    "X_train = X_train.reshape(X_train.shape[0], X_train.shape[1], 1)\n",
    "X_test = X_test.reshape(X_test.shape[0], X_test.shape[1], 1)"
   ]
  },
  {
   "cell_type": "code",
   "execution_count": 25,
   "metadata": {},
   "outputs": [],
   "source": [
    "# Create the Stacked LSTM Model\n",
    "from tensorflow.keras.models import Sequential\n",
    "from tensorflow.keras.layers import Dense\n",
    "from tensorflow.keras.layers import LSTM"
   ]
  },
  {
   "cell_type": "code",
   "execution_count": 26,
   "metadata": {},
   "outputs": [],
   "source": [
    "model = Sequential()\n",
    "model.add(LSTM(50, return_sequences=True,input_shape=(100,1)))\n",
    "model.add(LSTM(50, return_sequences=True))\n",
    "model.add(LSTM(50))\n",
    "model.add(Dense(1))\n",
    "model.compile(loss = 'mean_squared_error', optimizer = 'adam')\n"
   ]
  },
  {
   "cell_type": "code",
   "execution_count": 27,
   "metadata": {},
   "outputs": [
    {
     "name": "stdout",
     "output_type": "stream",
     "text": [
      "Model: \"sequential\"\n",
      "_________________________________________________________________\n",
      " Layer (type)                Output Shape              Param #   \n",
      "=================================================================\n",
      " lstm (LSTM)                 (None, 100, 50)           10400     \n",
      "                                                                 \n",
      " lstm_1 (LSTM)               (None, 100, 50)           20200     \n",
      "                                                                 \n",
      " lstm_2 (LSTM)               (None, 50)                20200     \n",
      "                                                                 \n",
      " dense (Dense)               (None, 1)                 51        \n",
      "                                                                 \n",
      "=================================================================\n",
      "Total params: 50,851\n",
      "Trainable params: 50,851\n",
      "Non-trainable params: 0\n",
      "_________________________________________________________________\n"
     ]
    }
   ],
   "source": [
    "model.summary()"
   ]
  },
  {
   "cell_type": "code",
   "execution_count": 28,
   "metadata": {},
   "outputs": [
    {
     "name": "stdout",
     "output_type": "stream",
     "text": [
      "Epoch 1/100\n",
      "13/13 [==============================] - 7s 230ms/step - loss: 0.0054 - val_loss: 0.0073\n",
      "Epoch 2/100\n",
      "13/13 [==============================] - 2s 139ms/step - loss: 0.0017 - val_loss: 0.0054\n",
      "Epoch 3/100\n",
      "13/13 [==============================] - 2s 130ms/step - loss: 0.0012 - val_loss: 0.0018\n",
      "Epoch 4/100\n",
      "13/13 [==============================] - 2s 131ms/step - loss: 8.7025e-04 - val_loss: 0.0023\n",
      "Epoch 5/100\n",
      "13/13 [==============================] - 2s 130ms/step - loss: 8.0255e-04 - val_loss: 0.0015\n",
      "Epoch 6/100\n",
      "13/13 [==============================] - 2s 135ms/step - loss: 7.0274e-04 - val_loss: 0.0014\n",
      "Epoch 7/100\n",
      "13/13 [==============================] - 2s 129ms/step - loss: 7.0149e-04 - val_loss: 0.0014\n",
      "Epoch 8/100\n",
      "13/13 [==============================] - 2s 148ms/step - loss: 5.8593e-04 - val_loss: 0.0016\n",
      "Epoch 9/100\n",
      "13/13 [==============================] - 3s 208ms/step - loss: 4.9968e-04 - val_loss: 0.0011\n",
      "Epoch 10/100\n",
      "13/13 [==============================] - 2s 186ms/step - loss: 4.7950e-04 - val_loss: 9.5608e-04\n",
      "Epoch 11/100\n",
      "13/13 [==============================] - 2s 187ms/step - loss: 3.8890e-04 - val_loss: 9.4113e-04\n",
      "Epoch 12/100\n",
      "13/13 [==============================] - 2s 156ms/step - loss: 3.7362e-04 - val_loss: 0.0011\n",
      "Epoch 13/100\n",
      "13/13 [==============================] - 2s 154ms/step - loss: 3.5978e-04 - val_loss: 0.0014\n",
      "Epoch 14/100\n",
      "13/13 [==============================] - 2s 162ms/step - loss: 3.9533e-04 - val_loss: 0.0014\n",
      "Epoch 15/100\n",
      "13/13 [==============================] - 2s 160ms/step - loss: 3.1900e-04 - val_loss: 0.0015\n",
      "Epoch 16/100\n",
      "13/13 [==============================] - 2s 161ms/step - loss: 3.0048e-04 - val_loss: 0.0016\n",
      "Epoch 17/100\n",
      "13/13 [==============================] - 2s 152ms/step - loss: 2.9570e-04 - val_loss: 0.0015\n",
      "Epoch 18/100\n",
      "13/13 [==============================] - 2s 130ms/step - loss: 3.0312e-04 - val_loss: 0.0013\n",
      "Epoch 19/100\n",
      "13/13 [==============================] - 2s 130ms/step - loss: 2.7753e-04 - val_loss: 0.0013\n",
      "Epoch 20/100\n",
      "13/13 [==============================] - 2s 131ms/step - loss: 2.7316e-04 - val_loss: 0.0014\n",
      "Epoch 21/100\n",
      "13/13 [==============================] - 2s 130ms/step - loss: 2.6081e-04 - val_loss: 0.0013\n",
      "Epoch 22/100\n",
      "13/13 [==============================] - 2s 133ms/step - loss: 2.6763e-04 - val_loss: 0.0013\n",
      "Epoch 23/100\n",
      "13/13 [==============================] - 2s 130ms/step - loss: 2.5386e-04 - val_loss: 0.0014\n",
      "Epoch 24/100\n",
      "13/13 [==============================] - 2s 129ms/step - loss: 2.8231e-04 - val_loss: 0.0019\n",
      "Epoch 25/100\n",
      "13/13 [==============================] - 2s 124ms/step - loss: 2.8798e-04 - val_loss: 0.0013\n",
      "Epoch 26/100\n",
      "13/13 [==============================] - 2s 122ms/step - loss: 2.9057e-04 - val_loss: 0.0015\n",
      "Epoch 27/100\n",
      "13/13 [==============================] - 2s 129ms/step - loss: 2.6781e-04 - val_loss: 0.0013\n",
      "Epoch 28/100\n",
      "13/13 [==============================] - 2s 177ms/step - loss: 2.6076e-04 - val_loss: 0.0014\n",
      "Epoch 29/100\n",
      "13/13 [==============================] - 2s 184ms/step - loss: 2.6136e-04 - val_loss: 0.0014\n",
      "Epoch 30/100\n",
      "13/13 [==============================] - 2s 159ms/step - loss: 2.8021e-04 - val_loss: 0.0017\n",
      "Epoch 31/100\n",
      "13/13 [==============================] - 2s 142ms/step - loss: 2.7625e-04 - val_loss: 0.0027\n",
      "Epoch 32/100\n",
      "13/13 [==============================] - 2s 129ms/step - loss: 4.5233e-04 - val_loss: 0.0024\n",
      "Epoch 33/100\n",
      "13/13 [==============================] - 2s 127ms/step - loss: 4.5387e-04 - val_loss: 0.0012\n",
      "Epoch 34/100\n",
      "13/13 [==============================] - 2s 126ms/step - loss: 2.9421e-04 - val_loss: 0.0014\n",
      "Epoch 35/100\n",
      "13/13 [==============================] - 2s 125ms/step - loss: 2.5642e-04 - val_loss: 0.0013\n",
      "Epoch 36/100\n",
      "13/13 [==============================] - 2s 125ms/step - loss: 2.5199e-04 - val_loss: 0.0014\n",
      "Epoch 37/100\n",
      "13/13 [==============================] - 2s 126ms/step - loss: 2.7558e-04 - val_loss: 0.0013\n",
      "Epoch 38/100\n",
      "13/13 [==============================] - 2s 126ms/step - loss: 2.4675e-04 - val_loss: 0.0012\n",
      "Epoch 39/100\n",
      "13/13 [==============================] - 2s 121ms/step - loss: 2.4365e-04 - val_loss: 0.0013\n",
      "Epoch 40/100\n",
      "13/13 [==============================] - 2s 122ms/step - loss: 2.5004e-04 - val_loss: 0.0013\n",
      "Epoch 41/100\n",
      "13/13 [==============================] - 2s 179ms/step - loss: 2.5170e-04 - val_loss: 0.0019\n",
      "Epoch 42/100\n",
      "13/13 [==============================] - 3s 197ms/step - loss: 3.0808e-04 - val_loss: 0.0011\n",
      "Epoch 43/100\n",
      "13/13 [==============================] - 2s 187ms/step - loss: 2.5690e-04 - val_loss: 0.0010\n",
      "Epoch 44/100\n",
      "13/13 [==============================] - 2s 166ms/step - loss: 2.3994e-04 - val_loss: 0.0012\n",
      "Epoch 45/100\n",
      "13/13 [==============================] - 2s 139ms/step - loss: 2.5315e-04 - val_loss: 0.0012\n",
      "Epoch 46/100\n",
      "13/13 [==============================] - 2s 130ms/step - loss: 2.8905e-04 - val_loss: 0.0012\n",
      "Epoch 47/100\n",
      "13/13 [==============================] - 2s 129ms/step - loss: 2.6509e-04 - val_loss: 0.0013\n",
      "Epoch 48/100\n",
      "13/13 [==============================] - 2s 125ms/step - loss: 2.5674e-04 - val_loss: 0.0011\n",
      "Epoch 49/100\n",
      "13/13 [==============================] - 2s 130ms/step - loss: 2.4420e-04 - val_loss: 0.0011\n",
      "Epoch 50/100\n",
      "13/13 [==============================] - 2s 133ms/step - loss: 2.4066e-04 - val_loss: 0.0012\n",
      "Epoch 51/100\n",
      "13/13 [==============================] - 2s 130ms/step - loss: 2.8645e-04 - val_loss: 0.0013\n",
      "Epoch 52/100\n",
      "13/13 [==============================] - 2s 130ms/step - loss: 2.3995e-04 - val_loss: 0.0012\n",
      "Epoch 53/100\n",
      "13/13 [==============================] - 2s 122ms/step - loss: 2.3554e-04 - val_loss: 0.0013\n",
      "Epoch 54/100\n",
      "13/13 [==============================] - 2s 126ms/step - loss: 2.6501e-04 - val_loss: 0.0013\n",
      "Epoch 55/100\n",
      "13/13 [==============================] - 2s 126ms/step - loss: 2.4845e-04 - val_loss: 0.0018\n",
      "Epoch 56/100\n",
      "13/13 [==============================] - 2s 126ms/step - loss: 2.7177e-04 - val_loss: 0.0011\n",
      "Epoch 57/100\n",
      "13/13 [==============================] - 2s 126ms/step - loss: 2.2333e-04 - val_loss: 0.0013\n",
      "Epoch 58/100\n",
      "13/13 [==============================] - 2s 125ms/step - loss: 2.2976e-04 - val_loss: 0.0010\n",
      "Epoch 59/100\n",
      "13/13 [==============================] - 2s 128ms/step - loss: 2.2007e-04 - val_loss: 0.0011\n",
      "Epoch 60/100\n",
      "13/13 [==============================] - 2s 159ms/step - loss: 2.1944e-04 - val_loss: 0.0012\n",
      "Epoch 61/100\n",
      "13/13 [==============================] - 3s 257ms/step - loss: 2.3633e-04 - val_loss: 0.0012\n",
      "Epoch 62/100\n",
      "13/13 [==============================] - 3s 188ms/step - loss: 2.6708e-04 - val_loss: 0.0011\n",
      "Epoch 63/100\n",
      "13/13 [==============================] - 2s 162ms/step - loss: 2.5047e-04 - val_loss: 8.7971e-04\n",
      "Epoch 64/100\n",
      "13/13 [==============================] - 2s 154ms/step - loss: 2.4587e-04 - val_loss: 9.7736e-04\n",
      "Epoch 65/100\n",
      "13/13 [==============================] - 2s 157ms/step - loss: 2.3495e-04 - val_loss: 8.6201e-04\n",
      "Epoch 66/100\n",
      "13/13 [==============================] - 2s 149ms/step - loss: 2.1937e-04 - val_loss: 0.0017\n",
      "Epoch 67/100\n",
      "13/13 [==============================] - 2s 155ms/step - loss: 3.2690e-04 - val_loss: 9.0980e-04\n",
      "Epoch 68/100\n",
      "13/13 [==============================] - 2s 151ms/step - loss: 2.7866e-04 - val_loss: 8.8772e-04\n",
      "Epoch 69/100\n",
      "13/13 [==============================] - 2s 150ms/step - loss: 2.5134e-04 - val_loss: 8.7780e-04\n",
      "Epoch 70/100\n",
      "13/13 [==============================] - 2s 157ms/step - loss: 2.3614e-04 - val_loss: 8.4894e-04\n",
      "Epoch 71/100\n",
      "13/13 [==============================] - 2s 196ms/step - loss: 2.1932e-04 - val_loss: 8.6971e-04\n",
      "Epoch 72/100\n",
      "13/13 [==============================] - 2s 155ms/step - loss: 2.0596e-04 - val_loss: 8.8736e-04\n",
      "Epoch 73/100\n",
      "13/13 [==============================] - 2s 160ms/step - loss: 2.0895e-04 - val_loss: 9.0909e-04\n",
      "Epoch 74/100\n",
      "13/13 [==============================] - 2s 156ms/step - loss: 2.1772e-04 - val_loss: 8.2220e-04\n",
      "Epoch 75/100\n",
      "13/13 [==============================] - 2s 175ms/step - loss: 2.2383e-04 - val_loss: 9.4347e-04\n",
      "Epoch 76/100\n",
      "13/13 [==============================] - 2s 165ms/step - loss: 2.0831e-04 - val_loss: 0.0010\n",
      "Epoch 77/100\n",
      "13/13 [==============================] - 2s 169ms/step - loss: 2.0101e-04 - val_loss: 9.2016e-04\n"
     ]
    },
    {
     "name": "stdout",
     "output_type": "stream",
     "text": [
      "Epoch 78/100\n",
      "13/13 [==============================] - 2s 144ms/step - loss: 1.9313e-04 - val_loss: 0.0015\n",
      "Epoch 79/100\n",
      "13/13 [==============================] - 2s 134ms/step - loss: 2.5890e-04 - val_loss: 0.0013\n",
      "Epoch 80/100\n",
      "13/13 [==============================] - 2s 136ms/step - loss: 2.6471e-04 - val_loss: 7.9574e-04\n",
      "Epoch 81/100\n",
      "13/13 [==============================] - 2s 137ms/step - loss: 2.1244e-04 - val_loss: 9.5484e-04\n",
      "Epoch 82/100\n",
      "13/13 [==============================] - 2s 191ms/step - loss: 2.2771e-04 - val_loss: 0.0012\n",
      "Epoch 83/100\n",
      "13/13 [==============================] - 2s 163ms/step - loss: 2.1857e-04 - val_loss: 8.7283e-04\n",
      "Epoch 84/100\n",
      "13/13 [==============================] - 2s 165ms/step - loss: 1.9321e-04 - val_loss: 7.5858e-04\n",
      "Epoch 85/100\n",
      "13/13 [==============================] - 3s 197ms/step - loss: 2.0643e-04 - val_loss: 8.0115e-04\n",
      "Epoch 86/100\n",
      "13/13 [==============================] - 2s 193ms/step - loss: 1.9765e-04 - val_loss: 0.0011\n",
      "Epoch 87/100\n",
      "13/13 [==============================] - 4s 301ms/step - loss: 2.0803e-04 - val_loss: 9.9221e-04\n",
      "Epoch 88/100\n",
      "13/13 [==============================] - 3s 241ms/step - loss: 2.0477e-04 - val_loss: 0.0013\n",
      "Epoch 89/100\n",
      "13/13 [==============================] - 2s 148ms/step - loss: 1.8777e-04 - val_loss: 6.8474e-04\n",
      "Epoch 90/100\n",
      "13/13 [==============================] - 2s 136ms/step - loss: 2.0493e-04 - val_loss: 9.3683e-04\n",
      "Epoch 91/100\n",
      "13/13 [==============================] - 2s 131ms/step - loss: 1.9898e-04 - val_loss: 9.7506e-04\n",
      "Epoch 92/100\n",
      "13/13 [==============================] - 2s 180ms/step - loss: 1.8012e-04 - val_loss: 7.7478e-04\n",
      "Epoch 93/100\n",
      "13/13 [==============================] - 2s 182ms/step - loss: 1.8445e-04 - val_loss: 9.5716e-04\n",
      "Epoch 94/100\n",
      "13/13 [==============================] - 2s 145ms/step - loss: 1.9347e-04 - val_loss: 0.0017\n",
      "Epoch 95/100\n",
      "13/13 [==============================] - 2s 143ms/step - loss: 1.6198e-04 - val_loss: 8.5840e-04\n",
      "Epoch 96/100\n",
      "13/13 [==============================] - 3s 200ms/step - loss: 1.6792e-04 - val_loss: 0.0012\n",
      "Epoch 97/100\n",
      "13/13 [==============================] - 3s 243ms/step - loss: 1.6875e-04 - val_loss: 6.9750e-04\n",
      "Epoch 98/100\n",
      "13/13 [==============================] - 3s 204ms/step - loss: 1.8956e-04 - val_loss: 6.4030e-04\n",
      "Epoch 99/100\n",
      "13/13 [==============================] - 2s 145ms/step - loss: 1.6931e-04 - val_loss: 6.9955e-04\n",
      "Epoch 100/100\n",
      "13/13 [==============================] - 2s 174ms/step - loss: 1.7691e-04 - val_loss: 8.7688e-04\n"
     ]
    },
    {
     "data": {
      "text/plain": [
       "<keras.callbacks.History at 0x7fbd9e4bb110>"
      ]
     },
     "execution_count": 28,
     "metadata": {},
     "output_type": "execute_result"
    }
   ],
   "source": [
    "model.fit(X_train,y_train,validation_data=(X_test,y_test), epochs=100,batch_size=64,verbose=1)"
   ]
  },
  {
   "cell_type": "code",
   "execution_count": 29,
   "metadata": {},
   "outputs": [],
   "source": [
    "import tensorflow as tf"
   ]
  },
  {
   "cell_type": "code",
   "execution_count": 30,
   "metadata": {},
   "outputs": [],
   "source": [
    "# predicting using the train_data\n",
    "trainpred = model.predict(X_train)\n",
    "testpred = model.predict(X_test)"
   ]
  },
  {
   "cell_type": "code",
   "execution_count": 31,
   "metadata": {},
   "outputs": [],
   "source": [
    "# Transform bark\n",
    "trainpred = scaler.inverse_transform(trainpred)\n",
    "testpred = scaler.inverse_transform(testpred)"
   ]
  },
  {
   "cell_type": "code",
   "execution_count": 32,
   "metadata": {},
   "outputs": [
    {
     "name": "stdout",
     "output_type": "stream",
     "text": [
      "399.4202449750937 783.4419035381625\n"
     ]
    }
   ],
   "source": [
    "# Calculate metrics \n",
    "# For Train\n",
    "trainMSE = mean_squared_error(y_train, trainpred)\n",
    "trainRMSE = math.sqrt(trainMSE)\n",
    "\n",
    "# For Test \n",
    "testMSE = mean_squared_error(y_test, testpred)\n",
    "testRMSE = math.sqrt(testMSE)\n",
    "\n",
    "print(trainRMSE, testRMSE)"
   ]
  },
  {
   "cell_type": "code",
   "execution_count": 33,
   "metadata": {},
   "outputs": [
    {
     "name": "stderr",
     "output_type": "stream",
     "text": [
      "/opt/anaconda3/lib/python3.7/site-packages/ipykernel_launcher.py:17: UserWarning:\n",
      "\n",
      "Matplotlib is currently using agg, which is a non-GUI backend, so cannot show the figure.\n",
      "\n"
     ]
    }
   ],
   "source": [
    "### Plotting \n",
    "# shift train predictions for plotting\n",
    "look_back=100\n",
    "trainPredictPlot = numpy.empty_like(closeStocks)\n",
    "trainPredictPlot[:, :] = np.nan\n",
    "trainPredictPlot[look_back:len(trainpred)+look_back, :] = trainpred\n",
    "\n",
    "# shift test predictions for plotting\n",
    "testPredictPlot = numpy.empty_like(closeStocks)\n",
    "testPredictPlot[:, :] = numpy.nan\n",
    "testPredictPlot[len(trainpred)+(look_back*2)+1:len(closeStocks)-1, :] = testpred\n",
    "\n",
    "# plot baseline and predictions\n",
    "plt.plot(scaler.inverse_transform(closeStocks))\n",
    "plt.plot(trainPredictPlot)\n",
    "plt.plot(testPredictPlot)\n",
    "plt.show()"
   ]
  },
  {
   "cell_type": "code",
   "execution_count": 34,
   "metadata": {},
   "outputs": [
    {
     "data": {
      "text/plain": [
       "378"
      ]
     },
     "execution_count": 34,
     "metadata": {},
     "output_type": "execute_result"
    }
   ],
   "source": [
    "len(test_data)"
   ]
  },
  {
   "cell_type": "code",
   "execution_count": null,
   "metadata": {},
   "outputs": [],
   "source": [
    "x_input=test_data[341:].reshape(1,-1)"
   ]
  },
  {
   "cell_type": "code",
   "execution_count": null,
   "metadata": {},
   "outputs": [],
   "source": [
    "temp_input= list(x_input)\n",
    "temp_input = temp_input[0].tolist()"
   ]
  },
  {
   "cell_type": "code",
   "execution_count": null,
   "metadata": {},
   "outputs": [],
   "source": [
    "# demonstrate prediction for next 10 days\n",
    "from numpy import array\n",
    "\n",
    "lst_output=[]\n",
    "n_steps=100\n",
    "i=0\n",
    "while(i<30):\n",
    "    \n",
    "    if(len(temp_input)>100):\n",
    "        #print(temp_input)\n",
    "        x_input=np.array(temp_input[1:])\n",
    "        print(\"{} day input {}\".format(i,x_input))\n",
    "        x_input=x_input.reshape(1,-1)\n",
    "        x_input = x_input.reshape((1, n_steps, 1))\n",
    "        #print(x_input)\n",
    "        yhat = model.predict(x_input, verbose=0)\n",
    "        print(\"{} day output {}\".format(i,yhat))\n",
    "        temp_input.extend(yhat[0].tolist())\n",
    "        temp_input=temp_input[1:]\n",
    "        #print(temp_input)\n",
    "        lst_output.extend(yhat.tolist())\n",
    "        i=i+1\n",
    "    else:\n",
    "        x_input = x_input.reshape((1, n_steps,1))\n",
    "        preds = model.predict(x_input, verbose=0)\n",
    "        print(yhat[0])\n",
    "        temp_input.extend(predst[0].tolist())\n",
    "        print(len(temp_input))\n",
    "        lst_output.extend(preds.tolist())\n",
    "        i=i+1\n",
    "    \n",
    "    \n",
    "\n",
    "print(lst_output)"
   ]
  },
  {
   "cell_type": "code",
   "execution_count": null,
   "metadata": {},
   "outputs": [],
   "source": [
    "day_new=np.arange(1,101)\n",
    "day_pred=np.arange(101,131)"
   ]
  },
  {
   "cell_type": "code",
   "execution_count": null,
   "metadata": {},
   "outputs": [],
   "source": [
    "len(closeStocks)"
   ]
  },
  {
   "cell_type": "code",
   "execution_count": null,
   "metadata": {},
   "outputs": [],
   "source": [
    "plt.plot(day_new,scaler.inverse_transform(closeStocks[1157:]))\n",
    "plt.plot(day_pred,scaler.inverse_transform(lst_output))"
   ]
  },
  {
   "cell_type": "code",
   "execution_count": null,
   "metadata": {},
   "outputs": [],
   "source": [
    "closeplot=closeStocks.tolist()\n",
    "closeplot.extend(lst_output)\n",
    "plt.plot(closeplot[1200:])"
   ]
  },
  {
   "cell_type": "code",
   "execution_count": null,
   "metadata": {},
   "outputs": [],
   "source": [
    "closeplot=scaler.inverse_transform(closeplot).tolist()"
   ]
  },
  {
   "cell_type": "code",
   "execution_count": null,
   "metadata": {},
   "outputs": [],
   "source": [
    "plt.plot(closeplot)"
   ]
  },
  {
   "cell_type": "code",
   "execution_count": null,
   "metadata": {},
   "outputs": [],
   "source": []
  }
 ],
 "metadata": {
  "kernelspec": {
   "display_name": "Python 3",
   "language": "python",
   "name": "python3"
  },
  "language_info": {
   "codemirror_mode": {
    "name": "ipython",
    "version": 3
   },
   "file_extension": ".py",
   "mimetype": "text/x-python",
   "name": "python",
   "nbconvert_exporter": "python",
   "pygments_lexer": "ipython3",
   "version": "3.7.6"
  }
 },
 "nbformat": 4,
 "nbformat_minor": 4
}
